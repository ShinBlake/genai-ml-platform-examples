{
 "cells": [
  {
   "cell_type": "code",
   "execution_count": 1,
   "metadata": {},
   "outputs": [
    {
     "name": "stderr",
     "output_type": "stream",
     "text": [
      "\u001b[32m2025-05-14 14:01:25.803\u001b[0m | \u001b[1mINFO    \u001b[0m | \u001b[36mpipecat\u001b[0m:\u001b[36m<module>\u001b[0m:\u001b[36m13\u001b[0m - \u001b[1mᓚᘏᗢ Pipecat 0.0.68.dev24 ᓚᘏᗢ\u001b[0m\n"
     ]
    }
   ],
   "source": [
    "from tools import *"
   ]
  },
  {
   "cell_type": "code",
   "execution_count": 9,
   "metadata": {},
   "outputs": [
    {
     "name": "stdout",
     "output_type": "stream",
     "text": [
      "6\n"
     ]
    }
   ],
   "source": [
    "\"\"\"Populate the database with sample appointment slots.\"\"\"\n",
    "conn = sqlite3.connect(DB_PATH)\n",
    "cursor = conn.cursor()\n",
    "\n",
    "# Check if data already exists\n",
    "cursor.execute(\"SELECT COUNT(*) FROM appointments\")\n",
    "count = cursor.fetchone()[0]\n",
    "\n",
    "print(count)\n",
    "\n",
    "if count == 0:\n",
    "    # Sample data - adjust as needed\n",
    "    sample_slots = [\n",
    "        (\"slot1\", \"2025-10-15\", \"09:00 AM\", \"Dr. Smith\", 1, None),\n",
    "        (\"slot2\", \"2025-10-15\", \"10:30 AM\", \"Dr. Smith\", 1, None),\n",
    "        (\"slot3\", \"2025-10-16\", \"02:00 PM\", \"Dr. Johnson\", 1, None),\n",
    "        (\"slot4\", \"2025-10-17\", \"11:00 AM\", \"Dr. Williams\", 1, None),\n",
    "        (\"slot5\", \"2025-10-18\", \"03:30 PM\", \"Dr. Davis\", 1, None),\n",
    "        # Example of pre-booked slot for testing\n",
    "        (\"slot6\", \"2025-10-19\", \"01:00 PM\", \"Dr. Wilson\", 0, \"test_user\")\n",
    "    ]\n",
    "    \n",
    "    cursor.executemany(\n",
    "        \"INSERT INTO appointments (id, date, time, doctor, available, user_id) VALUES (?, ?, ?, ?, ?, ?)\",\n",
    "        sample_slots\n",
    "    )\n",
    "    \n",
    "    conn.commit()\n",
    "\n",
    "conn.close()"
   ]
  },
  {
   "cell_type": "code",
   "execution_count": 10,
   "metadata": {},
   "outputs": [],
   "source": [
    "try:\n",
    "    conn = sqlite3.connect(DB_PATH)\n",
    "    conn.row_factory = sqlite3.Row  # This enables column access by name\n",
    "    cursor = conn.cursor()\n",
    "    \n",
    "    # Query only available slots\n",
    "    cursor.execute(\"SELECT * FROM appointments WHERE available = 1\")\n",
    "    rows = cursor.fetchall()\n",
    "    \n",
    "    # Convert to list of dictionaries\n",
    "    available_slots = []\n",
    "    for row in rows:\n",
    "        slot = dict(row)\n",
    "        available_slots.append({\n",
    "            \"id\": slot[\"id\"],\n",
    "            \"date\": slot[\"date\"],\n",
    "            \"time\": slot[\"time\"],\n",
    "            \"doctor\": slot[\"doctor\"],\n",
    "            \"available\": bool(slot[\"available\"])\n",
    "        })\n",
    "    \n",
    "    conn.close()\n",
    "except Exception as e:\n",
    "    logger.error(f\"Error getting available slots: {str(e)}\")"
   ]
  },
  {
   "cell_type": "code",
   "execution_count": 11,
   "metadata": {},
   "outputs": [
    {
     "name": "stdout",
     "output_type": "stream",
     "text": [
      "[{'id': 'slot1', 'date': '2025-10-15', 'time': '09:00 AM', 'doctor': 'Dr. Smith', 'available': True}, {'id': 'slot2', 'date': '2025-10-15', 'time': '10:30 AM', 'doctor': 'Dr. Smith', 'available': True}, {'id': 'slot3', 'date': '2025-10-16', 'time': '02:00 PM', 'doctor': 'Dr. Johnson', 'available': True}, {'id': 'slot4', 'date': '2025-10-17', 'time': '11:00 AM', 'doctor': 'Dr. Williams', 'available': True}, {'id': 'slot5', 'date': '2025-10-18', 'time': '03:30 PM', 'doctor': 'Dr. Davis', 'available': True}]\n"
     ]
    }
   ],
   "source": [
    "print(available_slots)"
   ]
  },
  {
   "cell_type": "code",
   "execution_count": null,
   "metadata": {},
   "outputs": [],
   "source": []
  }
 ],
 "metadata": {
  "kernelspec": {
   "display_name": "ai-health-assistant",
   "language": "python",
   "name": "python3"
  },
  "language_info": {
   "codemirror_mode": {
    "name": "ipython",
    "version": 3
   },
   "file_extension": ".py",
   "mimetype": "text/x-python",
   "name": "python",
   "nbconvert_exporter": "python",
   "pygments_lexer": "ipython3",
   "version": "3.12.10"
  }
 },
 "nbformat": 4,
 "nbformat_minor": 2
}
