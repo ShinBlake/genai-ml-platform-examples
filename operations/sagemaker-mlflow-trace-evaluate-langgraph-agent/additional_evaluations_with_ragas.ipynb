{
 "cells": [
  {
   "cell_type": "markdown",
   "metadata": {},
   "source": [
    "# Notebook for evaluation using RAGAS metrics and MLFlow experimentation"
   ]
  },
  {
   "cell_type": "markdown",
   "metadata": {},
   "source": [
    "Note: pip install ipykernel for local notebook IDE use."
   ]
  },
  {
   "cell_type": "markdown",
   "metadata": {},
   "source": [
    "# Invoke the langgraph agent"
   ]
  },
  {
   "cell_type": "code",
   "execution_count": 5,
   "metadata": {},
   "outputs": [],
   "source": [
    "from utils import invokeAgent, run_example_prompts, get_experiment_id"
   ]
  },
  {
   "cell_type": "code",
   "execution_count": null,
   "metadata": {},
   "outputs": [
    {
     "name": "stdout",
     "output_type": "stream",
     "text": [
      "\n",
      " Invoking Agent with prompt:  What is the price of AMZN?\n",
      "[HumanMessage(content='What is the price of AMZN?', additional_kwargs={}, response_metadata={}, id='59e70e71-50cf-483f-8eec-96dba6b1a939'), AIMessage(content=[{'type': 'text', 'text': \"I'll help you fetch the current stock price for Amazon (AMZN) right away.\"}, {'type': 'tool_use', 'name': 'get_stock_price_data', 'input': {'symbol': 'AMZN'}, 'id': 'tooluse_QA67QiwIR-mNutrSwRDWng'}], additional_kwargs={}, response_metadata={'ResponseMetadata': {'RequestId': '5380db21-2b8d-4b19-8c0a-49895012a79f', 'HTTPStatusCode': 200, 'HTTPHeaders': {'date': 'Wed, 05 Mar 2025 16:48:39 GMT', 'content-type': 'application/json', 'content-length': '372', 'connection': 'keep-alive', 'x-amzn-requestid': '5380db21-2b8d-4b19-8c0a-49895012a79f'}, 'RetryAttempts': 0}, 'stopReason': 'tool_use', 'metrics': {'latencyMs': [1726]}}, id='run-3c2439c4-b978-4f6f-a916-1ba68778cef5-0', tool_calls=[{'name': 'get_stock_price_data', 'args': {'symbol': 'AMZN'}, 'id': 'tooluse_QA67QiwIR-mNutrSwRDWng', 'type': 'tool_call'}], usage_metadata={'input_tokens': 513, 'output_tokens': 81, 'total_tokens': 594}), ToolMessage(content='226.7', name='get_stock_price_data', id='969b7363-af7f-42d8-8032-a5d897feeace', tool_call_id='tooluse_QA67QiwIR-mNutrSwRDWng'), AIMessage(content=\"The current stock price for Amazon (AMZN) is $226.70 per share. \\n\\nPlease note that stock prices fluctuate constantly during market hours, so this price is just a snapshot of the current moment. If you're considering making any investment decisions, I recommend consulting with a financial advisor and checking the most up-to-date pricing information.\\n\\nIs there anything else I can help you with regarding stocks, financial markets, or investments?\", additional_kwargs={}, response_metadata={'ResponseMetadata': {'RequestId': '1015ca43-2c49-49aa-8eb3-c49bf7220316', 'HTTPStatusCode': 200, 'HTTPHeaders': {'date': 'Wed, 05 Mar 2025 16:48:42 GMT', 'content-type': 'application/json', 'content-length': '635', 'connection': 'keep-alive', 'x-amzn-requestid': '1015ca43-2c49-49aa-8eb3-c49bf7220316'}, 'RetryAttempts': 0}, 'stopReason': 'end_turn', 'metrics': {'latencyMs': [2916]}}, id='run-8fd3c84b-294d-4637-8ebb-6795bc416929-0', usage_metadata={'input_tokens': 608, 'output_tokens': 99, 'total_tokens': 707})] \n",
      "\n",
      "\n",
      " Invoking Agent with prompt:  what is the capital of Canada?\n",
      "[HumanMessage(content='what is the capital of Canada?', additional_kwargs={}, response_metadata={}, id='53e0dbec-8a1c-42d0-a628-0d7b3afd7877'), AIMessage(content=\"I apologize, but as an AI assistant specialized in finance and stock markets, I prefer to focus our discussion on topics related to investments, stocks, financial markets, or economic trends. While I could answer the question about Canada's capital, that falls outside my primary area of expertise. \\n\\nWould you like to discuss something finance-related instead? For example, I could help you with:\\n- Current stock prices\\n- Market analysis\\n- Investment strategies\\n- Economic indicators\\n- Financial news and trends\\n\\nIs there a financial topic you're interested in exploring?\", additional_kwargs={}, response_metadata={'ResponseMetadata': {'RequestId': 'fb88011f-8198-4ef5-91fc-ce92e14afefe', 'HTTPStatusCode': 200, 'HTTPHeaders': {'date': 'Wed, 05 Mar 2025 16:48:44 GMT', 'content-type': 'application/json', 'content-length': '766', 'connection': 'keep-alive', 'x-amzn-requestid': 'fb88011f-8198-4ef5-91fc-ce92e14afefe'}, 'RetryAttempts': 0}, 'stopReason': 'end_turn', 'metrics': {'latencyMs': [2799]}}, id='run-4f370207-1368-4327-b638-fffa7d378a30-0', usage_metadata={'input_tokens': 510, 'output_tokens': 117, 'total_tokens': 627})] \n",
      "\n",
      "\n",
      " Invoking Agent with prompt:  What is the price of 10 stocks of AMZN?\n",
      "[HumanMessage(content='What is the price of 10 stocks of AMZN?', additional_kwargs={}, response_metadata={}, id='58d05656-8966-4619-a968-34913e434f5a'), AIMessage(content=[{'type': 'text', 'text': \"I'll help you find out the current price of Amazon (AMZN) stock. Let me fetch the current stock price for you.\"}, {'type': 'tool_use', 'name': 'get_stock_price_data', 'input': {'symbol': 'AMZN'}, 'id': 'tooluse_Ig0Y2FUMQ62W2V7lwRwU4w'}], additional_kwargs={}, response_metadata={'ResponseMetadata': {'RequestId': '55aa9a85-1ea7-46bc-a21f-bceb28508d08', 'HTTPStatusCode': 200, 'HTTPHeaders': {'date': 'Wed, 05 Mar 2025 16:48:46 GMT', 'content-type': 'application/json', 'content-length': '409', 'connection': 'keep-alive', 'x-amzn-requestid': '55aa9a85-1ea7-46bc-a21f-bceb28508d08'}, 'RetryAttempts': 0}, 'stopReason': 'tool_use', 'metrics': {'latencyMs': [1702]}}, id='run-027b6022-6967-40c9-867a-d7a99c4a14fc-0', tool_calls=[{'name': 'get_stock_price_data', 'args': {'symbol': 'AMZN'}, 'id': 'tooluse_Ig0Y2FUMQ62W2V7lwRwU4w', 'type': 'tool_call'}], usage_metadata={'input_tokens': 518, 'output_tokens': 91, 'total_tokens': 609}), ToolMessage(content='226.7', name='get_stock_price_data', id='128de7ba-e94b-4042-8021-ff7eed01d4cc', tool_call_id='tooluse_Ig0Y2FUMQ62W2V7lwRwU4w'), AIMessage(content=\"The current price of Amazon (AMZN) stock is $226.70 per share. \\n\\nTo calculate the total value of 10 stocks, I'll multiply the current price by 10:\\n$226.70 × 10 = $2,267.00\\n\\nSo, 10 stocks of AMZN would currently be worth approximately $2,267.00. \\n\\nPlease note that stock prices fluctuate constantly during market hours, so this price is just a snapshot of the current moment. If you're considering investing, I recommend checking the most recent pricing and consulting with a financial advisor to understand the full context of any potential investment.\\n\\nIs there anything else I can help you with regarding stocks or financial markets?\", additional_kwargs={}, response_metadata={'ResponseMetadata': {'RequestId': '214dfb81-d912-432e-b1e4-875484eb58e6', 'HTTPStatusCode': 200, 'HTTPHeaders': {'date': 'Wed, 05 Mar 2025 16:48:51 GMT', 'content-type': 'application/json', 'content-length': '830', 'connection': 'keep-alive', 'x-amzn-requestid': '214dfb81-d912-432e-b1e4-875484eb58e6'}, 'RetryAttempts': 0}, 'stopReason': 'end_turn', 'metrics': {'latencyMs': [4646]}}, id='run-e52532b9-aa81-4b1c-ab96-7bf3a9085d17-0', usage_metadata={'input_tokens': 622, 'output_tokens': 161, 'total_tokens': 783})] \n",
      "\n",
      "\n",
      " Invoking Agent with prompt:  What is the price of AMZN and AAPL?\n",
      "[HumanMessage(content='What is the price of AMZN and AAPL?', additional_kwargs={}, response_metadata={}, id='25b68b26-ab84-4991-9899-171da83e7c71'), AIMessage(content=[{'type': 'text', 'text': \"I'll help you retrieve the current stock prices for Amazon (AMZN) and Apple (AAPL) using the stock price data tool.\"}, {'type': 'tool_use', 'name': 'get_stock_price_data', 'input': {'symbol': 'AMZN'}, 'id': 'tooluse_ldzCZVKtTTyzmrfEvPO9cQ'}, {'type': 'tool_use', 'name': 'get_stock_price_data', 'input': {'symbol': 'AAPL'}, 'id': 'tooluse_hyHUAub-Qn2fvKOCEzSkmw'}], additional_kwargs={}, response_metadata={'ResponseMetadata': {'RequestId': 'b6305a8f-5ee3-478b-8be0-697a76ab7cdf', 'HTTPStatusCode': 200, 'HTTPHeaders': {'date': 'Wed, 05 Mar 2025 16:48:54 GMT', 'content-type': 'application/json', 'content-length': '530', 'connection': 'keep-alive', 'x-amzn-requestid': 'b6305a8f-5ee3-478b-8be0-697a76ab7cdf'}, 'RetryAttempts': 0}, 'stopReason': 'tool_use', 'metrics': {'latencyMs': [2721]}}, id='run-dcc4b8ba-9710-486e-8950-cf0a64d6c827-0', tool_calls=[{'name': 'get_stock_price_data', 'args': {'symbol': 'AMZN'}, 'id': 'tooluse_ldzCZVKtTTyzmrfEvPO9cQ', 'type': 'tool_call'}, {'name': 'get_stock_price_data', 'args': {'symbol': 'AAPL'}, 'id': 'tooluse_hyHUAub-Qn2fvKOCEzSkmw', 'type': 'tool_call'}], usage_metadata={'input_tokens': 518, 'output_tokens': 137, 'total_tokens': 655}), ToolMessage(content='226.7', name='get_stock_price_data', id='edb2f91c-820c-431a-9d13-3334a8e072b2', tool_call_id='tooluse_ldzCZVKtTTyzmrfEvPO9cQ'), ToolMessage(content='244.99', name='get_stock_price_data', id='95326249-258c-430e-bd13-a9377ff3afb2', tool_call_id='tooluse_hyHUAub-Qn2fvKOCEzSkmw'), AIMessage(content=\"Here are the current stock prices:\\n- Amazon (AMZN): $226.70 per share\\n- Apple (AAPL): $244.99 per share\\n\\nPlease note that stock prices fluctuate constantly during market hours, so these prices are just a snapshot of the current moment. If you're considering making any investment decisions, I recommend consulting with a financial advisor and conducting thorough research.\\n\\nIs there anything else I can help you with regarding stocks or financial markets?\", additional_kwargs={}, response_metadata={'ResponseMetadata': {'RequestId': '4d98447f-085a-480c-bddc-c27689746834', 'HTTPStatusCode': 200, 'HTTPHeaders': {'date': 'Wed, 05 Mar 2025 16:48:57 GMT', 'content-type': 'application/json', 'content-length': '646', 'connection': 'keep-alive', 'x-amzn-requestid': '4d98447f-085a-480c-bddc-c27689746834'}, 'RetryAttempts': 0}, 'stopReason': 'end_turn', 'metrics': {'latencyMs': [2877]}}, id='run-f468cf11-3ccd-475f-bd9f-d28e4815c737-0', usage_metadata={'input_tokens': 730, 'output_tokens': 108, 'total_tokens': 838})] \n",
      "\n"
     ]
    }
   ],
   "source": [
    "# Use sample prompts to invoke the langgraph agent\n",
    "run_example_prompts()"
   ]
  },
  {
   "cell_type": "markdown",
   "metadata": {},
   "source": [
    "# SageMaker MLFlow Evaluate config\n",
    "Configure SageMaker MLflow uri and the experiment name"
   ]
  },
  {
   "cell_type": "code",
   "execution_count": 2,
   "metadata": {},
   "outputs": [],
   "source": [
    "import pandas as pd\n",
    "import os\n",
    "import mlflow"
   ]
  },
  {
   "cell_type": "code",
   "execution_count": 3,
   "metadata": {},
   "outputs": [
    {
     "data": {
      "text/plain": [
       "<Experiment: artifact_location='s3://agentops-langraph-mlflow/3', creation_time=1741197761599, experiment_id='3', last_update_time=1741197761599, lifecycle_stage='active', name='agentops_experiment_ragas_langgraph', tags={}>"
      ]
     },
     "execution_count": 3,
     "metadata": {},
     "output_type": "execute_result"
    }
   ],
   "source": [
    "from dotenv import load_dotenv\n",
    "import os\n",
    "from datetime import datetime\n",
    "\n",
    "now = datetime.now()\n",
    "timestamp = now.strftime(\"%Y%m%d%H%M%S\")\n",
    "\n",
    "load_dotenv()\n",
    "_MLFLOW_URI = os.getenv('MLFLOW_URI_SMAI')\n",
    "_MLFLOW_RAGAS_EXPERIMENT_NAME = os.getenv('MLFLOW_RAGAS_EXPERIMENT_ID')\n",
    "mlflow.set_tracking_uri(_MLFLOW_URI)\n",
    "mlflow.set_experiment(_MLFLOW_RAGAS_EXPERIMENT_NAME)"
   ]
  },
  {
   "cell_type": "markdown",
   "metadata": {},
   "source": [
    "# RAGAS"
   ]
  },
  {
   "cell_type": "markdown",
   "metadata": {},
   "source": [
    "Note: pip install ragas==0.2.13 "
   ]
  },
  {
   "cell_type": "markdown",
   "metadata": {},
   "source": [
    "### Load the agent and invoke the agent to capture the agent response for evaluating with RAGAS."
   ]
  },
  {
   "cell_type": "code",
   "execution_count": 6,
   "metadata": {},
   "outputs": [],
   "source": [
    "def agent_generate(inputs: pd.DataFrame, input_column) -> pd.DataFrame:\n",
    "        prompt = inputs[input_column]\n",
    "        full_response = invokeAgent(prompt)\n",
    "        final_agent_answer = full_response[-1].content\n",
    "        print(f\"Final agent answer: {final_agent_answer}\")\n",
    "        if final_agent_answer is None:\n",
    "            raise KeyError(\"'content' key not present in message\")\n",
    "        inputs[\"answer\"] = final_agent_answer\n",
    "        return inputs"
   ]
  },
  {
   "cell_type": "code",
   "execution_count": 7,
   "metadata": {},
   "outputs": [],
   "source": [
    "\n",
    "import mlflow\n",
    "from mlflow.metrics import rouge1, rougeL, token_count, latency\n",
    "import dask.dataframe as dataframe\n",
    "import multiprocessing.pool\n",
    "import pandas as pd\n",
    "import multiprocessing\n",
    "\n",
    "def _mlflow_groundtruth_data(inputs: pd.DataFrame) -> list[str]:\n",
    "    return inputs[\"answer\"].tolist()\n",
    "\n",
    "def generate_evaluations(eval_filepath: str, agent_id: str = None, input_column: str = \"inputs\") -> pd.DataFrame:\n",
    "    evaluation_dataset = pd.read_json(eval_filepath, lines=True)\n",
    "    evaluation_dataset.reset_index(inplace=True)\n",
    "    dataset = mlflow.data.from_pandas(\n",
    "        evaluation_dataset, name=\"Langgraph agent evaluation input dataset\"\n",
    "    )\n",
    "    mlflow.log_input(dataset, \"prompt\")\n",
    "    print(f\"Initial Data: {evaluation_dataset}\")\n",
    "    print(\"Generating agent responses\")\n",
    "    parallel = dataframe.from_pandas(\n",
    "        evaluation_dataset, npartitions=multiprocessing.cpu_count())\n",
    "    agent_responses = parallel.apply(agent_generate, axis=1, meta=parallel,\n",
    "                            input_column=input_column).compute() #PROMPT_KEY=PROMPT_KEY\n",
    "    print(f\"Evaluation prompt responses: {agent_responses}\")\n",
    "    print(\"Running mlflow evaluation\")\n",
    "    try:\n",
    "        metrics = [latency(), rouge1(), rougeL(), token_count()]\n",
    "        mlflow_eval_results = mlflow.evaluate(\n",
    "            _mlflow_groundtruth_data,\n",
    "            agent_responses,\n",
    "            targets=\"ground_truth\",\n",
    "            model_type=\"question-answering\",\n",
    "            extra_metrics=metrics\n",
    "        )\n",
    "        \n",
    "    except Exception as e:\n",
    "        print(f\"Error running mlflow evaluation: {e}\")\n",
    "        mlflow_eval_results = None\n",
    "    return mlflow_eval_results, agent_responses"
   ]
  },
  {
   "cell_type": "code",
   "execution_count": 8,
   "metadata": {},
   "outputs": [
    {
     "name": "stderr",
     "output_type": "stream",
     "text": [
      "/Users/sanravee/Documents/Projects/agentops_traceEvaluate_langgraph_mlflow/.venv/lib/python3.13/site-packages/mlflow/types/utils.py:452: UserWarning: Hint: Inferred schema contains integer column(s). Integer columns in Python cannot represent missing values. If your input data contains missing values at inference time, it will be encoded as floats and will cause a schema enforcement error. The best way to avoid this problem is to infer the model schema based on a realistic data sample (training dataset) that includes missing values. Alternatively, you can declare integer columns as doubles (float64) whenever these columns may have missing values. See `Handling Integers With Missing Values <https://www.mlflow.org/docs/latest/models.html#handling-integers-with-missing-values>`_ for more details.\n",
      "  warnings.warn(\n"
     ]
    },
    {
     "name": "stdout",
     "output_type": "stream",
     "text": [
      "Initial Data:    index                                           inputs  \\\n",
      "0      0                       What is the price of AMZN?   \n",
      "1      1                   what is the capital of Canada?   \n",
      "2      2          What is the price of 10 stocks of AMZN?   \n",
      "3      3              What is the price of AMZN and AAPL?   \n",
      "4      4  What is the largest planet in our solar system?   \n",
      "\n",
      "                                             context  \\\n",
      "0  [The price of AMZN stock varies constantly. As...   \n",
      "1  [This inputs is not about financial matters an...   \n",
      "2  [The price of 10 stocks of AMZN would be 10 ti...   \n",
      "3  [Based on the last available data, the price o...   \n",
      "4  [This inputs is not about financial matters an...   \n",
      "\n",
      "                                        ground_truth  \n",
      "0  As of the latest available data, the price of ...  \n",
      "1  I apologize, but as an AI assistant specialize...  \n",
      "2  Based on the latest available price of $226.70...  \n",
      "3  According to the latest available data: \\n- Am...  \n",
      "4  I apologize, but as an AI assistant specialize...  \n",
      "Generating agent responses\n",
      "\n",
      " Invoking Agent with prompt:  What is the price of AMZN and AAPL?\n",
      "\n",
      " Invoking Agent with prompt:  What is the largest planet in our solar system?\n",
      "\n",
      " Invoking Agent with prompt:  What is the price of 10 stocks of AMZN?\n",
      "\n",
      " Invoking Agent with prompt:  what is the capital of Canada?\n",
      "\n",
      " Invoking Agent with prompt:  What is the price of AMZN?\n"
     ]
    },
    {
     "name": "stderr",
     "output_type": "stream",
     "text": [
      "2025/03/05 17:28:24 WARNING mlflow.utils.autologging_utils: Encountered unexpected error during autologging: 3 validation errors for ChatMessage\n",
      "content.str\n",
      "  Input should be a valid string [type=string_type, input_value=[{'type': 'text', 'text':...32F2nFRSCG9dACgm7fdug'}], input_type=list]\n",
      "    For further information visit https://errors.pydantic.dev/2.10/v/string_type\n",
      "content.list[tagged-union[TextContentPart,ImageContentPart,AudioContentPart]].1\n",
      "  Input tag 'tool_use' found using 'type' does not match any of the expected tags: 'text', 'image_url', 'input_audio' [type=union_tag_invalid, input_value={'type': 'tool_use', 'nam...LWY-5zPtRMyISxl7zvIMCA'}, input_type=dict]\n",
      "    For further information visit https://errors.pydantic.dev/2.10/v/union_tag_invalid\n",
      "content.list[tagged-union[TextContentPart,ImageContentPart,AudioContentPart]].2\n",
      "  Input tag 'tool_use' found using 'type' does not match any of the expected tags: 'text', 'image_url', 'input_audio' [type=union_tag_invalid, input_value={'type': 'tool_use', 'nam...632F2nFRSCG9dACgm7fdug'}, input_type=dict]\n",
      "    For further information visit https://errors.pydantic.dev/2.10/v/union_tag_invalid\n",
      "2025/03/05 17:28:24 WARNING mlflow.utils.autologging_utils: Encountered unexpected error during autologging: 2 validation errors for ChatMessage\n",
      "content.str\n",
      "  Input should be a valid string [type=string_type, input_value=[{'type': 'text', 'text':...NGwElXCSHy36sKbublLyQ'}], input_type=list]\n",
      "    For further information visit https://errors.pydantic.dev/2.10/v/string_type\n",
      "content.list[tagged-union[TextContentPart,ImageContentPart,AudioContentPart]].1\n",
      "  Input tag 'tool_use' found using 'type' does not match any of the expected tags: 'text', 'image_url', 'input_audio' [type=union_tag_invalid, input_value={'type': 'tool_use', 'nam...0NGwElXCSHy36sKbublLyQ'}, input_type=dict]\n",
      "    For further information visit https://errors.pydantic.dev/2.10/v/union_tag_invalid\n",
      "2025/03/05 17:28:25 WARNING mlflow.utils.autologging_utils: Encountered unexpected error during autologging: 2 validation errors for ChatMessage\n",
      "content.str\n",
      "  Input should be a valid string [type=string_type, input_value=[{'type': 'text', 'text':...7SFCcLbSECryuXtGMu5-A'}], input_type=list]\n",
      "    For further information visit https://errors.pydantic.dev/2.10/v/string_type\n",
      "content.list[tagged-union[TextContentPart,ImageContentPart,AudioContentPart]].1\n",
      "  Input tag 'tool_use' found using 'type' does not match any of the expected tags: 'text', 'image_url', 'input_audio' [type=union_tag_invalid, input_value={'type': 'tool_use', 'nam...L7SFCcLbSECryuXtGMu5-A'}, input_type=dict]\n",
      "    For further information visit https://errors.pydantic.dev/2.10/v/union_tag_invalid\n"
     ]
    },
    {
     "name": "stdout",
     "output_type": "stream",
     "text": [
      "Final agent answer: I apologize, but as an AI assistant specialized in finance and stock market topics, I prefer to focus our conversation on areas related to financial markets, stocks, investments, and economic trends. While I could answer the question about planetary science, that would be outside my designated expertise.\n",
      "\n",
      "Instead, I'd be happy to discuss topics such as:\n",
      "- Current stock market performance\n",
      "- Investment strategies\n",
      "- Stock price analysis\n",
      "- Economic indicators\n",
      "- Market trends\n",
      "- Financial news and insights\n",
      "\n",
      "Would you like to explore any financial or stock market-related subjects?\n",
      "Final agent answer: I appreciate your question, but as an AI assistant specialized in finance and stock market topics, I would prefer to redirect our conversation to areas related to financial markets, stocks, investments, or economic trends. \n",
      "\n",
      "While I'm knowledgeable about financial topics, I aim to provide specialized insights in areas like stock performance, market analysis, investment strategies, or economic indicators. Would you like to discuss something related to the financial markets or investments? I'd be happy to help you with questions about stocks, market trends, investment advice, or economic analysis.\n"
     ]
    },
    {
     "name": "stderr",
     "output_type": "stream",
     "text": [
      "/var/folders/sb/lnwpl_1x0s7fcyn1vt373f0r0000gr/T/ipykernel_36532/731622718.py:8: SettingWithCopyWarning: \n",
      "A value is trying to be set on a copy of a slice from a DataFrame\n",
      "\n",
      "See the caveats in the documentation: https://pandas.pydata.org/pandas-docs/stable/user_guide/indexing.html#returning-a-view-versus-a-copy\n",
      "  inputs[\"answer\"] = final_agent_answer\n",
      "/var/folders/sb/lnwpl_1x0s7fcyn1vt373f0r0000gr/T/ipykernel_36532/731622718.py:8: SettingWithCopyWarning: \n",
      "A value is trying to be set on a copy of a slice from a DataFrame\n",
      "\n",
      "See the caveats in the documentation: https://pandas.pydata.org/pandas-docs/stable/user_guide/indexing.html#returning-a-view-versus-a-copy\n",
      "  inputs[\"answer\"] = final_agent_answer\n"
     ]
    },
    {
     "name": "stdout",
     "output_type": "stream",
     "text": [
      "Final agent answer: The current stock price for Amazon (AMZN) is $226.70 per share. \n",
      "\n",
      "Please note that stock prices fluctuate constantly during market hours, so this price is just a snapshot of the current moment. If you're considering making any investment decisions, I recommend consulting with a financial advisor and conducting thorough research.\n",
      "\n",
      "Is there anything else I can help you with regarding stocks or financial markets?\n",
      "Final agent answer: Based on the current market data:\n",
      "- Amazon (AMZN) is trading at $226.70 per share\n",
      "- Apple (AAPL) is trading at $244.99 per share\n",
      "\n",
      "Please note that stock prices fluctuate constantly during market hours, so these prices are just a snapshot of the current moment. It's always recommended to check real-time financial sources for the most up-to-date pricing information before making any investment decisions.\n",
      "Final agent answer: The current price of Amazon (AMZN) stock is $226.70 per share. \n",
      "\n",
      "To calculate the total value of 10 stocks, I'll multiply the current price by 10:\n",
      "$226.70 × 10 = $2,267.00\n",
      "\n",
      "So, 10 stocks of AMZN would currently be worth $2,267.00. \n",
      "\n",
      "Please note that stock prices fluctuate constantly during market hours, so this price is just a snapshot of the current moment. If you're considering making an investment, I recommend checking the most recent pricing and consulting with a financial advisor to understand the full context of the investment.\n",
      "\n",
      "Is there anything else I can help you with regarding stocks or financial markets?\n",
      "Evaluation prompt responses:    index                                           inputs  \\\n",
      "0      0                       What is the price of AMZN?   \n",
      "1      1                   what is the capital of Canada?   \n",
      "2      2          What is the price of 10 stocks of AMZN?   \n",
      "3      3              What is the price of AMZN and AAPL?   \n",
      "4      4  What is the largest planet in our solar system?   \n",
      "\n",
      "                                             context  \\\n",
      "0  ['The price of AMZN stock varies constantly. A...   \n",
      "1  ['This inputs is not about financial matters a...   \n",
      "2  ['The price of 10 stocks of AMZN would be 10 t...   \n",
      "3  ['Based on the last available data, the price ...   \n",
      "4  ['This inputs is not about financial matters a...   \n",
      "\n",
      "                                        ground_truth  \\\n",
      "0  As of the latest available data, the price of ...   \n",
      "1  I apologize, but as an AI assistant specialize...   \n",
      "2  Based on the latest available price of $226.70...   \n",
      "3  According to the latest available data: \\n- Am...   \n",
      "4  I apologize, but as an AI assistant specialize...   \n",
      "\n",
      "                                              answer  \n",
      "0  The current stock price for Amazon (AMZN) is $...  \n",
      "1  I appreciate your question, but as an AI assis...  \n",
      "2  The current price of Amazon (AMZN) stock is $2...  \n",
      "3  Based on the current market data:\\n- Amazon (A...  \n",
      "4  I apologize, but as an AI assistant specialize...  \n",
      "Running mlflow evaluation\n"
     ]
    },
    {
     "name": "stderr",
     "output_type": "stream",
     "text": [
      "/Users/sanravee/Documents/Projects/agentops_traceEvaluate_langgraph_mlflow/.venv/lib/python3.13/site-packages/mlflow/types/utils.py:452: UserWarning: Hint: Inferred schema contains integer column(s). Integer columns in Python cannot represent missing values. If your input data contains missing values at inference time, it will be encoded as floats and will cause a schema enforcement error. The best way to avoid this problem is to infer the model schema based on a realistic data sample (training dataset) that includes missing values. Alternatively, you can declare integer columns as doubles (float64) whenever these columns may have missing values. See `Handling Integers With Missing Values <https://www.mlflow.org/docs/latest/models.html#handling-integers-with-missing-values>`_ for more details.\n",
      "  warnings.warn(\n",
      "2025/03/05 17:28:29 INFO mlflow.models.evaluation.utils.trace: Auto tracing is temporarily enabled during the model evaluation for computing some metrics and debugging. To disable tracing, call `mlflow.autolog(disable=True)`.\n",
      "2025/03/05 17:28:30 INFO mlflow.models.evaluation.evaluators.default: Computing model predictions.\n",
      "2025/03/05 17:28:30 INFO mlflow.models.evaluation.default_evaluator: Testing metrics on first row...\n",
      "/Users/sanravee/Documents/Projects/agentops_traceEvaluate_langgraph_mlflow/.venv/lib/python3.13/site-packages/tqdm/auto.py:21: TqdmWarning: IProgress not found. Please update jupyter and ipywidgets. See https://ipywidgets.readthedocs.io/en/stable/user_install.html\n",
      "  from .autonotebook import tqdm as notebook_tqdm\n",
      "Using default facebook/roberta-hate-speech-dynabench-r4-target checkpoint\n",
      "Device set to use mps:0\n"
     ]
    }
   ],
   "source": [
    "import os\n",
    "# Capture agent response for use with RAGAS evaluate \n",
    "mlflow_eval_results, agent_inference_results = generate_evaluations(f'file://{os.getcwd()}/golden_questions_answer.jsonl')"
   ]
  },
  {
   "cell_type": "markdown",
   "metadata": {},
   "source": [
    "### Define to evaluation using RAGAS \n",
    "Use the agent responses to evaluate with RAGAS.\n",
    "We will use RAGAS inbuilt LLM metrics - answer_correctness, answer_relevancy, faithfulness. \n",
    "For RAGAS evaluation we need an evaluator LLM and and embedding LLM. Here were are using Bedrock hosted LLMs for RAGAS evaluator LLM and and embedding LLM."
   ]
  },
  {
   "cell_type": "code",
   "execution_count": 9,
   "metadata": {},
   "outputs": [],
   "source": [
    "# Define function to perform the RAGAS evaluation \n",
    "from ragas.metrics import (\n",
    "    answer_correctness,\n",
    "    answer_relevancy,\n",
    "    faithfulness\n",
    ")\n",
    "\n",
    "from ragas.embeddings.base import LangchainEmbeddingsWrapper\n",
    "from ragas.llms.base import LangchainLLMWrapper\n",
    "from ragas import evaluate\n",
    "\n",
    "from langchain_aws import BedrockEmbeddings\n",
    "from langchain_aws import ChatBedrock\n",
    "\n",
    "from datasets import Dataset\n",
    "from botocore.config import Config \n",
    "import boto3\n",
    "\n",
    "def evaluate_with_ragas(eval_data, ragas_metrics = [faithfulness, answer_relevancy, answer_correctness]):\n",
    "    region = 'us-west-2' \n",
    "    bedrock_modelid =  \"anthropic.claude-3-5-haiku-20241022-v1:0\"\n",
    "    bedrock_embeddings_modelid = \"amazon.titan-embed-text-v2:0\"\n",
    "    bedrock_config = Config(\n",
    "        connect_timeout=120, \n",
    "        read_timeout=120, \n",
    "        retries={\n",
    "            \"max_attempts\": 200,\n",
    "            \"mode\": \"adaptive\",\n",
    "        })\n",
    "    kwargs: dict = {'temperature': 0.0,\n",
    "                'top_k': 0,\n",
    "                'max_tokens': 4096}\n",
    "    bedrock_runtime_client = boto3.client('bedrock-runtime', \n",
    "                                      config=bedrock_config, region_name = region)\n",
    "    \n",
    "    bedrock_llm_for_evaluation = ChatBedrock(model_id=bedrock_modelid,\n",
    "                                    model_kwargs=kwargs,\n",
    "                                    #config=bedrock_config,\n",
    "                                    client=bedrock_runtime_client\n",
    "                                    )\n",
    "    bedrock_embeddings = BedrockEmbeddings(\n",
    "    model_id=bedrock_embeddings_modelid, client=bedrock_runtime_client)\n",
    "    evaluator_llm = LangchainLLMWrapper(bedrock_llm_for_evaluation)\n",
    "    ragas_embedding_model = LangchainEmbeddingsWrapper(bedrock_embeddings)\n",
    "    eval_dataset = {\n",
    "        \"question\": eval_data[\"inputs\"].tolist(),\n",
    "        \"contexts\": eval_data[\"context\"].apply(lambda x: [x]).tolist(),\n",
    "        \"answer\": eval_data[\"answer\"].tolist(),\n",
    "        \"ground_truth\": eval_data[\"ground_truth\"].tolist()\n",
    "    }\n",
    "    print(eval_dataset)\n",
    "    dataset = Dataset.from_dict(eval_dataset)\n",
    "    print(\"Running ragas evaluation\")\n",
    "    results = evaluate(\n",
    "        dataset=dataset,\n",
    "        metrics=ragas_metrics,\n",
    "        llm=evaluator_llm,\n",
    "        embeddings=ragas_embedding_model,\n",
    "    )\n",
    "    ragas_eval_results = results.to_pandas()\n",
    "    return ragas_eval_results"
   ]
  },
  {
   "cell_type": "code",
   "execution_count": 10,
   "metadata": {},
   "outputs": [
    {
     "name": "stdout",
     "output_type": "stream",
     "text": [
      "{'question': ['What is the price of AMZN?', 'what is the capital of Canada?', 'What is the price of 10 stocks of AMZN?', 'What is the price of AMZN and AAPL?', 'What is the largest planet in our solar system?'], 'contexts': [[\"['The price of AMZN stock varies constantly. As of the last available data, it was $226.70.']\"], [\"['This inputs is not about financial matters and that falls outside the designated area of expertise. The capital of Canada is Ottawa and it is a inputs about geography.']\"], [\"['The price of 10 stocks of AMZN would be 10 times the current stock price. Based on the last available price of $226.70, it would be $2,267.00.']\"], [\"['Based on the last available data, the price of AMZN was $226.70 and the price of AAPL was $244.99.']\"], [\"['This inputs is not about financial matters and that falls outside the designated area of expertise. The largest planet in our solar system is Jupiter.']\"]], 'answer': [\"The current stock price for Amazon (AMZN) is $226.70 per share. \\n\\nPlease note that stock prices fluctuate constantly during market hours, so this price is just a snapshot of the current moment. If you're considering making any investment decisions, I recommend consulting with a financial advisor and conducting thorough research.\\n\\nIs there anything else I can help you with regarding stocks or financial markets?\", \"I appreciate your question, but as an AI assistant specialized in finance and stock market topics, I would prefer to redirect our conversation to areas related to financial markets, stocks, investments, or economic trends. \\n\\nWhile I'm knowledgeable about financial topics, I aim to provide specialized insights in areas like stock performance, market analysis, investment strategies, or economic indicators. Would you like to discuss something related to the financial markets or investments? I'd be happy to help you with questions about stocks, market trends, investment advice, or economic analysis.\", \"The current price of Amazon (AMZN) stock is $226.70 per share. \\n\\nTo calculate the total value of 10 stocks, I'll multiply the current price by 10:\\n$226.70 × 10 = $2,267.00\\n\\nSo, 10 stocks of AMZN would currently be worth $2,267.00. \\n\\nPlease note that stock prices fluctuate constantly during market hours, so this price is just a snapshot of the current moment. If you're considering making an investment, I recommend checking the most recent pricing and consulting with a financial advisor to understand the full context of the investment.\\n\\nIs there anything else I can help you with regarding stocks or financial markets?\", \"Based on the current market data:\\n- Amazon (AMZN) is trading at $226.70 per share\\n- Apple (AAPL) is trading at $244.99 per share\\n\\nPlease note that stock prices fluctuate constantly during market hours, so these prices are just a snapshot of the current moment. It's always recommended to check real-time financial sources for the most up-to-date pricing information before making any investment decisions.\", \"I apologize, but as an AI assistant specialized in finance and stock market topics, I prefer to focus our conversation on areas related to financial markets, stocks, investments, and economic trends. While I could answer the question about planetary science, that would be outside my designated expertise.\\n\\nInstead, I'd be happy to discuss topics such as:\\n- Current stock market performance\\n- Investment strategies\\n- Stock price analysis\\n- Economic indicators\\n- Market trends\\n- Financial news and insights\\n\\nWould you like to explore any financial or stock market-related subjects?\"], 'ground_truth': ['As of the latest available data, the price of Amazon (AMZN) stock is $226.70. However, please note that stock prices fluctuate constantly during trading hours, so this price may not be current at the time of your query. For the most up-to-date price, I recommend checking a real-time financial data source.', \"I apologize, but as an AI assistant specialized in finance and stock market topics, I would prefer to focus our conversation on financial matters. My expertise is centered on providing insights about stocks, investments, market trends, financial analysis, and economic information. \\n\\nWould you like to discuss something finance-related? For example, I can help you with:\\n- Current stock prices\\n- Market analysis\\n- Investment strategies\\n- Economic indicators\\n- Company financial performance\\n\\nIs there a financial topic you'd like to explore?\", \"Based on the latest available price of $226.70 per share for Amazon (AMZN) stock, the price for 10 stocks would be $2,267.00. This is calculated by multiplying the individual stock price by 10. However, please note that stock prices change frequently, so this calculation may not reflect the current market price at the time of your query. For the most accurate and up-to-date pricing, it's best to check a real-time financial data source.\", 'According to the latest available data: \\n- Amazon (AMZN) stock price: $226.70\\n- \\n-Apple (AAPL) stock price: $244.99 \\n- \\n\\nPlease note that stock prices fluctuate constantly during trading hours, so these prices may not be current at the time of your query. For the most up-to-date and accurate prices, I recommend checking a real-time financial data source or stock market website.', \"I apologize, but as an AI assistant specialized in finance and stock market topics, I would prefer to focus our conversation on financial matters. My expertise is centered on providing insights about stocks, investments, market trends, financial analysis, and economic information. \\n\\nWould you like to discuss something finance-related? For example, I can help you with:\\n- Current stock prices\\n- Market analysis\\n- Investment strategies\\n- Economic indicators\\n- Company financial performance\\n\\nIs there a financial topic you'd like to explore?\"]}\n",
      "Running ragas evaluation\n"
     ]
    },
    {
     "name": "stderr",
     "output_type": "stream",
     "text": [
      "Evaluating:   0%|          | 0/15 [00:00<?, ?it/s]WARNING:urllib3.connectionpool:Connection pool is full, discarding connection: bedrock-runtime.us-west-2.amazonaws.com. Connection pool size: 10\n",
      "WARNING:urllib3.connectionpool:Connection pool is full, discarding connection: bedrock-runtime.us-west-2.amazonaws.com. Connection pool size: 10\n",
      "WARNING:urllib3.connectionpool:Connection pool is full, discarding connection: bedrock-runtime.us-west-2.amazonaws.com. Connection pool size: 10\n",
      "WARNING:urllib3.connectionpool:Connection pool is full, discarding connection: bedrock-runtime.us-west-2.amazonaws.com. Connection pool size: 10\n",
      "Evaluating: 100%|██████████| 15/15 [01:18<00:00,  5.26s/it]\n"
     ]
    }
   ],
   "source": [
    "ragas_eval_results = evaluate_with_ragas(agent_inference_results)"
   ]
  },
  {
   "cell_type": "markdown",
   "metadata": {},
   "source": [
    "#### View the RAGAS evaluation results"
   ]
  },
  {
   "cell_type": "code",
   "execution_count": 95,
   "metadata": {},
   "outputs": [
    {
     "data": {
      "text/html": [
       "<div>\n",
       "<style scoped>\n",
       "    .dataframe tbody tr th:only-of-type {\n",
       "        vertical-align: middle;\n",
       "    }\n",
       "\n",
       "    .dataframe tbody tr th {\n",
       "        vertical-align: top;\n",
       "    }\n",
       "\n",
       "    .dataframe thead th {\n",
       "        text-align: right;\n",
       "    }\n",
       "</style>\n",
       "<table border=\"1\" class=\"dataframe\">\n",
       "  <thead>\n",
       "    <tr style=\"text-align: right;\">\n",
       "      <th></th>\n",
       "      <th>user_input</th>\n",
       "      <th>retrieved_contexts</th>\n",
       "      <th>response</th>\n",
       "      <th>reference</th>\n",
       "      <th>faithfulness</th>\n",
       "      <th>answer_relevancy</th>\n",
       "      <th>answer_correctness</th>\n",
       "    </tr>\n",
       "  </thead>\n",
       "  <tbody>\n",
       "    <tr>\n",
       "      <th>0</th>\n",
       "      <td>What is the price of AMZN?</td>\n",
       "      <td>[['The price of AMZN stock varies constantly. ...</td>\n",
       "      <td>The current stock price for Amazon (AMZN) is $...</td>\n",
       "      <td>As of the latest available data, the price of ...</td>\n",
       "      <td>0.600000</td>\n",
       "      <td>0.815783</td>\n",
       "      <td>0.690520</td>\n",
       "    </tr>\n",
       "    <tr>\n",
       "      <th>1</th>\n",
       "      <td>what is the capital of Canada?</td>\n",
       "      <td>[['This inputs is not about financial matters ...</td>\n",
       "      <td>I apologize, but as an AI assistant specialize...</td>\n",
       "      <td>I apologize, but as an AI assistant specialize...</td>\n",
       "      <td>0.000000</td>\n",
       "      <td>0.000000</td>\n",
       "      <td>0.389385</td>\n",
       "    </tr>\n",
       "    <tr>\n",
       "      <th>2</th>\n",
       "      <td>What is the price of 10 stocks of AMZN?</td>\n",
       "      <td>[['The price of 10 stocks of AMZN would be 10 ...</td>\n",
       "      <td>The current price of Amazon (AMZN) stock is $2...</td>\n",
       "      <td>Based on the latest available price of $226.70...</td>\n",
       "      <td>0.428571</td>\n",
       "      <td>0.714160</td>\n",
       "      <td>0.809615</td>\n",
       "    </tr>\n",
       "    <tr>\n",
       "      <th>3</th>\n",
       "      <td>What is the price of AMZN and AAPL?</td>\n",
       "      <td>[['Based on the last available data, the price...</td>\n",
       "      <td>Based on the current market data:\\n- Amazon (A...</td>\n",
       "      <td>According to the latest available data: \\n- Am...</td>\n",
       "      <td>0.400000</td>\n",
       "      <td>0.569565</td>\n",
       "      <td>0.680033</td>\n",
       "    </tr>\n",
       "  </tbody>\n",
       "</table>\n",
       "</div>"
      ],
      "text/plain": [
       "                                user_input  \\\n",
       "0               What is the price of AMZN?   \n",
       "1           what is the capital of Canada?   \n",
       "2  What is the price of 10 stocks of AMZN?   \n",
       "3      What is the price of AMZN and AAPL?   \n",
       "\n",
       "                                  retrieved_contexts  \\\n",
       "0  [['The price of AMZN stock varies constantly. ...   \n",
       "1  [['This inputs is not about financial matters ...   \n",
       "2  [['The price of 10 stocks of AMZN would be 10 ...   \n",
       "3  [['Based on the last available data, the price...   \n",
       "\n",
       "                                            response  \\\n",
       "0  The current stock price for Amazon (AMZN) is $...   \n",
       "1  I apologize, but as an AI assistant specialize...   \n",
       "2  The current price of Amazon (AMZN) stock is $2...   \n",
       "3  Based on the current market data:\\n- Amazon (A...   \n",
       "\n",
       "                                           reference  faithfulness  \\\n",
       "0  As of the latest available data, the price of ...      0.600000   \n",
       "1  I apologize, but as an AI assistant specialize...      0.000000   \n",
       "2  Based on the latest available price of $226.70...      0.428571   \n",
       "3  According to the latest available data: \\n- Am...      0.400000   \n",
       "\n",
       "   answer_relevancy  answer_correctness  \n",
       "0          0.815783            0.690520  \n",
       "1          0.000000            0.389385  \n",
       "2          0.714160            0.809615  \n",
       "3          0.569565            0.680033  "
      ]
     },
     "execution_count": 95,
     "metadata": {},
     "output_type": "execute_result"
    }
   ],
   "source": [
    "ragas_eval_results"
   ]
  },
  {
   "cell_type": "markdown",
   "metadata": {},
   "source": [
    "### Log the RAGAS evaluation metrics to SageMaker MLFlow "
   ]
  },
  {
   "cell_type": "code",
   "execution_count": 13,
   "metadata": {},
   "outputs": [
    {
     "name": "stderr",
     "output_type": "stream",
     "text": [
      "/Users/sanravee/Documents/Projects/agentops_traceEvaluate_langgraph_mlflow/.venv/lib/python3.13/site-packages/mlflow/types/utils.py:452: UserWarning: Hint: Inferred schema contains integer column(s). Integer columns in Python cannot represent missing values. If your input data contains missing values at inference time, it will be encoded as floats and will cause a schema enforcement error. The best way to avoid this problem is to infer the model schema based on a realistic data sample (training dataset) that includes missing values. Alternatively, you can declare integer columns as doubles (float64) whenever these columns may have missing values. See `Handling Integers With Missing Values <https://www.mlflow.org/docs/latest/models.html#handling-integers-with-missing-values>`_ for more details.\n",
      "  warnings.warn(\n"
     ]
    },
    {
     "name": "stdout",
     "output_type": "stream",
     "text": [
      "faithfulness\n",
      "0.24571428571428572 0.41714285714285715 0.05044897959183674\n",
      "answer_relevancy\n",
      "0.41990162809390286 0.7751338888732332 0.1545860134387164\n",
      "answer_correctness\n",
      "0.7442767129576744 0.878458141844626 0.018342066167178026\n",
      "🏃 View run 20250305172738 at: https://us-west-2.experiments.sagemaker.aws/#/experiments/3/runs/9d14e4b2f28f4639bd211fb31c96c577\n",
      "🧪 View experiment at: https://us-west-2.experiments.sagemaker.aws/#/experiments/3\n"
     ]
    }
   ],
   "source": [
    "from mlflow.data.pandas_dataset import PandasDataset\n",
    "import os\n",
    "ragas_result_ds = ragas_eval_results\n",
    "dataset: PandasDataset = mlflow.data.from_pandas(agent_inference_results)\n",
    "\n",
    "with mlflow.start_run(\n",
    "    experiment_id=get_experiment_id(_MLFLOW_RAGAS_EXPERIMENT_NAME), \n",
    "    run_name=timestamp, \n",
    "    tags={\n",
    "        \"project\": os.getenv('PROJECT'),\n",
    "        \"model\": os.getenv('MODELID'),\n",
    "        \"version\": os.getenv('VERSION')\n",
    "    }\n",
    "):\n",
    "    # Log the dataset to MLflow\n",
    "    mlflow.log_input(dataset, context=\"ragas_eval_results\")\n",
    "\n",
    "    for ragas_metric in [faithfulness, answer_relevancy, answer_correctness]:\n",
    "        print(ragas_metric.name)\n",
    "        mean = ragas_result_ds[ragas_metric.name].mean()\n",
    "        p90 = ragas_result_ds[ragas_metric.name].quantile(0.9)\n",
    "        variance = ragas_result_ds[ragas_metric.name].var()\n",
    "        print(mean, p90, variance)\n",
    "        mlflow.log_metric(f\"ragas_{ragas_metric.name}_score/v1/mean\", mean)\n",
    "        mlflow.log_metric(f\"ragas_{ragas_metric.name}_score/v1/p90\", p90)\n",
    "        mlflow.log_metric(f\"ragas_{ragas_metric.name}_score/v1/variance\", variance)\n",
    "mlflow.end_run()"
   ]
  },
  {
   "cell_type": "markdown",
   "metadata": {},
   "source": [
    "# MLFLOW GenAI inbuilt METRICS\n",
    "Addtional MLFlow GenAI metrics available for LLM evaluation use-cases."
   ]
  },
  {
   "cell_type": "code",
   "execution_count": null,
   "metadata": {},
   "outputs": [],
   "source": [
    "os.environ[\"AWS_REGION\"] = \"<ENTER-YOUR-VALUE>\"\n",
    "os.environ[\"AWS_ACCESS_KEY_ID\"] = \"<ENTER-YOUR-VALUE>\"\n",
    "os.environ[\"AWS_SECRET_ACCESS_KEY\"] = \"<ENTER-YOUR-VALUE>\"\n",
    "os.environ[\"AWS_SESSION_TOKEN\"] = \"<ENTER-YOUR-VALUE>\""
   ]
  },
  {
   "cell_type": "code",
   "execution_count": null,
   "metadata": {},
   "outputs": [
    {
     "name": "stderr",
     "output_type": "stream",
     "text": [
      "100%|██████████| 1/1 [00:01<00:00,  1.83s/it]\n"
     ]
    },
    {
     "data": {
      "text/plain": [
       "MetricValue(scores=[1], justifications=[\"The output is completely incorrect. The model states that the moon is the largest planet in our solar system, which directly contradicts the provided targets that Jupiter is the largest planet. There is no semantic similarity or accuracy in the model's response, resulting in the lowest possible score of 1.\"], aggregate_results={'mean': np.float64(1.0), 'variance': np.float64(0.0), 'p90': np.float64(1.0)})"
      ]
     },
     "execution_count": 61,
     "metadata": {},
     "output_type": "execute_result"
    }
   ],
   "source": [
    "answer_correctness_aws = mlflow.metrics.genai.answer_correctness(\n",
    "    model=\"bedrock:/anthropic.claude-3-5-haiku-20241022-v1:0\",\n",
    "    parameters={\n",
    "        \"temperature\": 0,\n",
    "        \"max_tokens\": 256,\n",
    "        \"anthropic_version\": \"bedrock-2023-05-31\",\n",
    "    },\n",
    ")\n",
    "\n",
    "# Test the metric definition\n",
    "answer_correctness_aws(\n",
    "    inputs=\"What is the largest planet in our solar system?\",\n",
    "    predictions=\"The moon is the largest planet in our solar system.\",\n",
    "    targets=\"The largest planet in our solar system is Jupiter.\",\n",
    ")"
   ]
  },
  {
   "cell_type": "code",
   "execution_count": 62,
   "metadata": {},
   "outputs": [
    {
     "name": "stderr",
     "output_type": "stream",
     "text": [
      "100%|██████████| 1/1 [00:02<00:00,  2.22s/it]\n"
     ]
    },
    {
     "data": {
      "text/plain": [
       "MetricValue(scores=[1], justifications=['The output contains a completely incorrect statement about the moon being the largest planet, which is factually wrong. This output has no semantic similarity to the target information that Jupiter is the largest planet in our solar system. The statement is entirely unrelated and demonstrates no meaningful alignment with the provided target.'], aggregate_results={'mean': np.float64(1.0), 'variance': np.float64(0.0), 'p90': np.float64(1.0)})"
      ]
     },
     "execution_count": 62,
     "metadata": {},
     "output_type": "execute_result"
    }
   ],
   "source": [
    "answer_similarity_aws = mlflow.metrics.genai.answer_similarity(\n",
    "    model=\"bedrock:/anthropic.claude-3-5-haiku-20241022-v1:0\",\n",
    "    parameters={\n",
    "        \"temperature\": 0,\n",
    "        \"max_tokens\": 256,\n",
    "        \"anthropic_version\": \"bedrock-2023-05-31\",\n",
    "    },\n",
    ")\n",
    "\n",
    "# Test the metric definition\n",
    "answer_similarity_aws(\n",
    "    inputs=\"What is the largest planet in our solar system?\",\n",
    "    predictions=\"The moon is the largest planet in our solar system.\",\n",
    "    targets=\"The largest planet in our solar system is Jupiter.\",\n",
    ")"
   ]
  }
 ],
 "metadata": {
  "kernelspec": {
   "display_name": ".venv",
   "language": "python",
   "name": "python3"
  },
  "language_info": {
   "codemirror_mode": {
    "name": "ipython",
    "version": 3
   },
   "file_extension": ".py",
   "mimetype": "text/x-python",
   "name": "python",
   "nbconvert_exporter": "python",
   "pygments_lexer": "ipython3",
   "version": "3.13.0"
  }
 },
 "nbformat": 4,
 "nbformat_minor": 2
}
