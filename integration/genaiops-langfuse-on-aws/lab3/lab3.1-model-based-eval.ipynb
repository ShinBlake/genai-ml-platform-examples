{
 "cells": [
  {
   "attachments": {},
   "cell_type": "markdown",
   "id": "6d8b8be2-25d0-4fd8-adb3-57857424ed84",
   "metadata": {},
   "source": [
    "# Lab 3.1: Evaluate Langfuse Traces using an external evaluation pipeline\n",
    "\n",
    "#### An external evaluation pipeline is useful when you need:\n",
    "- More control over when traces get evaluated. You could schedule the pipeline to run at specific times or responding to event-based triggers like Webhooks.\n",
    "- Greater flexibility with your custom evaluations, when your needs go beyond what’s possible with the Langfuse UI\n",
    "- Version control for your custom evaluations\n",
    "- The ability to evaluate data using existing evaluation frameworks and pre-defined metrics\n",
    "\n",
    "In this notebook, we will learn to implement a external evaluation pipeline by doing the following:\n",
    "1. Create a synthetic dataset to test your models.\n",
    "2. Use the Langfuse client to gather and filter traces of previous model runs\n",
    "3. Evaluate these traces offline and incrementally\n",
    "4. Add scores to existing Langfuse traces"
   ]
  },
  {
   "cell_type": "markdown",
   "id": "699cf5b2",
   "metadata": {},
   "source": [
    "## Prerequisites\n",
    "\n",
    "> ℹ️ You can **skip these prerequisite steps** if you're in an instructor-led workshop using temporary accounts provided by AWS"
   ]
  },
  {
   "cell_type": "code",
   "execution_count": null,
   "id": "fd76becf-bfb8-48d5-bc3b-ca6b29413351",
   "metadata": {
    "scrolled": true
   },
   "outputs": [],
   "source": [
    "# Uncomment the following line to install dependencies if you are not using AWS workshop environment\n",
    "# %pip install langfuse datasets ragas python-dotenv langchain-aws boto3 --upgrade"
   ]
  },
  {
   "cell_type": "markdown",
   "id": "5e32f49e",
   "metadata": {},
   "source": [
    "Connect to self-hosted or cloud Langfuse environment."
   ]
  },
  {
   "cell_type": "code",
   "execution_count": null,
   "id": "4ea0cbc1-7af1-4875-bd2a-0e17ff33cde5",
   "metadata": {},
   "outputs": [],
   "source": [
    "# if you already define the environment variables in the .env of the vscode server, please skip the following cell\n",
    "# Define the environment variables for langfuse\n",
    "# You can find those values when you create the API key in Langfuse\n",
    "# import os\n",
    "# os.environ[\"LANGFUSE_SECRET_KEY\"] = \"xxxx\" # Your Langfuse project secret key\n",
    "# os.environ[\"LANGFUSE_PUBLIC_KEY\"] = \"xxxx\" # Your Langfuse project public key\n",
    "# os.environ[\"LANGFUSE_HOST\"] = \"xxx\" # Langfuse domain"
   ]
  },
  {
   "cell_type": "markdown",
   "id": "9a66d076",
   "metadata": {},
   "source": [
    "## Initialization and Authentication Check\n",
    "Run the following cells to initialize common libraries and clients."
   ]
  },
  {
   "cell_type": "code",
   "execution_count": null,
   "id": "2ea6967f-1a23-4029-b107-c38e2c74b53e",
   "metadata": {},
   "outputs": [],
   "source": [
    "import os\n",
    "from typing import Any, Dict, List, Optional\n",
    "\n",
    "import boto3\n",
    "from botocore.exceptions import ClientError\n",
    "from langfuse import Langfuse\n",
    "from langfuse.client import PromptClient\n",
    "from langfuse.decorators import langfuse_context, observe"
   ]
  },
  {
   "cell_type": "markdown",
   "id": "bd5342ee",
   "metadata": {},
   "source": [
    "Initialize AWS Bedrock clients and check models available in your account."
   ]
  },
  {
   "cell_type": "code",
   "execution_count": null,
   "id": "c9823c3f-bfc3-4507-bc14-42bccda623f3",
   "metadata": {
    "scrolled": true
   },
   "outputs": [],
   "source": [
    "import boto3  # General Python SDK for AWS (including Bedrock)\n",
    "\n",
    "# used to access Bedrock configuration\n",
    "bedrock = boto3.client(service_name=\"bedrock\", region_name=\"us-west-2\")\n",
    "\n",
    "# used to invoke the Bedrock Converse API\n",
    "bedrock_runtime = boto3.client(service_name=\"bedrock-runtime\", region_name=\"us-west-2\")\n",
    "\n",
    "bedrock_agent_runtime = boto3.client(\n",
    "    service_name=\"bedrock-agent-runtime\", region_name=\"us-west-2\"\n",
    ")\n",
    "\n",
    "# Check which models are available in your account\n",
    "models = bedrock.list_inference_profiles()\n",
    "for model in models[\"inferenceProfileSummaries\"]:\n",
    "    print(model[\"inferenceProfileName\"] + \" - \" + model[\"inferenceProfileId\"])"
   ]
  },
  {
   "cell_type": "markdown",
   "id": "660e58d2",
   "metadata": {},
   "source": [
    "Initialize the Langfuse client and check credentials are valid."
   ]
  },
  {
   "cell_type": "code",
   "execution_count": null,
   "id": "fa452fcb",
   "metadata": {},
   "outputs": [],
   "source": [
    "from langfuse import Langfuse\n",
    "\n",
    "# langfuse client\n",
    "langfuse = Langfuse()\n",
    "if langfuse.auth_check():\n",
    "    print(\"Langfuse has been set up correctly\")\n",
    "    print(f\"You can access your Langfuse instance at: {os.environ['LANGFUSE_HOST']}\")\n",
    "else:\n",
    "    print(\n",
    "        \"Credentials not found or invalid. Check your Langfuse API key and host in the .env file.\"\n",
    "    )"
   ]
  },
  {
   "cell_type": "markdown",
   "id": "c7ed397a-fd9c-47b1-8d42-cea1894ef30d",
   "metadata": {},
   "source": [
    "# Generate synthetic data\n",
    "\n",
    "In this notebook, we consider a use case of leveraging a LLM to generate product descriptions that can be used in advising the product on a e-commerce page. The first step is to generate a list of products and for each of them, instruct Amazon Nova Lite to \n",
    "generate brief product descriptions."
   ]
  },
  {
   "cell_type": "code",
   "execution_count": null,
   "id": "0e45d951-8f92-4a0a-8755-bf3b58df7910",
   "metadata": {},
   "outputs": [],
   "source": [
    "# Let's prompt the model to generate 50 products\n",
    "messages = [\n",
    "    {\n",
    "        \"role\": \"user\",\n",
    "        \"content\": [\n",
    "            {\n",
    "                \"text\": \"For a variety of 50 different product categories sold on a e-commerce website, \\\n",
    "    generate one product that is interesting to a consumer. The product names should be reflective of the actual product being sold. \\\n",
    "    Generate the 50 product items as comma separated values. Do not generate any additional words apart from the product names\"\n",
    "            }\n",
    "        ],\n",
    "    },\n",
    "]\n",
    "\n",
    "# Make the API call to the Nova Lite model\n",
    "model_response = bedrock_runtime.converse(\n",
    "    modelId=\"us.amazon.nova-lite-v1:0\",  # you can update the model id to other foundation models in bedrock\n",
    "    messages=messages,\n",
    ")\n",
    "\n",
    "# Print the generated text\n",
    "print(\"\\n[Response Content Text]\")\n",
    "print(model_response[\"output\"][\"message\"][\"content\"][0][\"text\"])"
   ]
  },
  {
   "cell_type": "code",
   "execution_count": null,
   "id": "86b45f91-beb0-42ab-8741-1544027caa95",
   "metadata": {
    "scrolled": true
   },
   "outputs": [],
   "source": [
    "# check the model generation outputs\n",
    "products_text = model_response[\"output\"][\"message\"][\"content\"][0][\"text\"]\n",
    "products = [item.strip() for item in products_text.split(\",\")]\n",
    "\n",
    "for prd in products:\n",
    "    print(prd)"
   ]
  },
  {
   "cell_type": "markdown",
   "id": "6aa9f700-bd36-4625-b387-3ae16740a3d7",
   "metadata": {},
   "source": [
    "#### For each of the products, we will now generate product descriptions using Amazon Nova Lite, and capture the traces to Langfuse using the ```@observe()``` decorator"
   ]
  },
  {
   "cell_type": "code",
   "execution_count": null,
   "id": "e11c48c0-9ed1-409b-8b20-b46404b264ef",
   "metadata": {
    "scrolled": true
   },
   "outputs": [],
   "source": [
    "# Generate product descriptions for each product\n",
    "from typing import Optional\n",
    "\n",
    "\n",
    "@observe(as_type=\"generation\")\n",
    "def general_chat(\n",
    "    product,\n",
    "    messages: List[Dict[str, Any]],\n",
    "    prompt: Optional[PromptClient] = None,\n",
    "    modelId: str = \"us.amazon.nova-lite-v1:0\",\n",
    "    user_id: str = \"lab3-model-eval-user\",\n",
    "    **kwargs,\n",
    ") -> Optional[str]:\n",
    "    # 1. extract model metadata\n",
    "    inferenceConfig = {\"maxTokens\": 500, \"temperature\": 0.1}\n",
    "    additionalModelRequestFields = {}\n",
    "\n",
    "    model_parameters = {**inferenceConfig, **additionalModelRequestFields}\n",
    "\n",
    "    langfuse_context.update_current_observation(\n",
    "        input=messages,\n",
    "        model=modelId,\n",
    "        model_parameters=model_parameters,\n",
    "        prompt=prompt,\n",
    "        metadata=kwargs,\n",
    "    )\n",
    "\n",
    "    langfuse_context.update_current_trace(\n",
    "        name=f\"Description of '{product}'\",\n",
    "        user_id=user_id,\n",
    "        tags=[\"bedrock_eval_pipelines\"],\n",
    "    )\n",
    "\n",
    "    # Extract the system prompts from the messages and convert them to the format expected by the Bedrock Converse API\n",
    "    system_prompts = [\n",
    "        {\"text\": message[\"content\"]}\n",
    "        for message in messages\n",
    "        if message[\"role\"] == \"system\"\n",
    "    ]\n",
    "\n",
    "    # Convert the rest of messages to the format expected by the Bedrock Converse API\n",
    "    messages = [\n",
    "        {\n",
    "            \"role\": message[\"role\"],\n",
    "            \"content\": (\n",
    "                message[\"content\"]\n",
    "                if isinstance(message[\"content\"], list)\n",
    "                else [{\"text\": message[\"content\"]}]\n",
    "            ),\n",
    "        }\n",
    "        for message in messages\n",
    "        if message[\"role\"] != \"system\"  # Add this condition\n",
    "    ]\n",
    "\n",
    "    # 2. model call with error handling\n",
    "    try:\n",
    "        response = bedrock_runtime.converse(\n",
    "            modelId=modelId,\n",
    "            messages=messages,\n",
    "            system=system_prompts,\n",
    "            inferenceConfig=inferenceConfig,\n",
    "            additionalModelRequestFields=additionalModelRequestFields,\n",
    "            **kwargs,\n",
    "        )\n",
    "    except (ClientError, Exception) as e:\n",
    "        error_message = f\"ERROR: Can't invoke '{modelId}'. Reason: {e}\"\n",
    "        langfuse_context.update_current_observation(\n",
    "            level=\"ERROR\", status_message=error_message\n",
    "        )\n",
    "        print(error_message)\n",
    "        return\n",
    "\n",
    "    # 3. extract response metadata\n",
    "    response_text = response[\"output\"][\"message\"][\"content\"][0][\"text\"]\n",
    "    langfuse_context.update_current_observation(\n",
    "        output=response_text,\n",
    "        usage={\n",
    "            \"input\": response[\"usage\"][\"inputTokens\"],\n",
    "            \"output\": response[\"usage\"][\"outputTokens\"],\n",
    "            \"total\": response[\"usage\"][\"totalTokens\"],\n",
    "        },\n",
    "        metadata={\n",
    "            \"ResponseMetadata\": response[\"ResponseMetadata\"],\n",
    "        },\n",
    "    )\n",
    "\n",
    "    return response_text\n",
    "\n",
    "\n",
    "prompt_template = \"You are a product marketer and you need to generate detailed \\\n",
    "product descriptions for products which will be used for selling \\\n",
    "the product on a e-commerce website. Any catchy phrases from the \\\n",
    "descriptions will also be used for social meda campaigns. \\\n",
    "From the product descriptions, customers should be able to understand \\\n",
    "how the product can help them in their lives but also be able to trust \\\n",
    "this company. Your descriptions are fun and engaging. \\\n",
    "Your answer should be 4 sentences at max.\"\n",
    "\n",
    "for product in products:\n",
    "    print(f\"Input: Generate a description for {product}\")\n",
    "    messages = [\n",
    "        {\"role\": \"system\", \"content\": prompt_template},\n",
    "        {\"role\": \"user\", \"content\": f\"Generate a description for {product}\"},\n",
    "    ]\n",
    "    print(f\"Answer: {general_chat(product, messages)} \\n\")"
   ]
  },
  {
   "cell_type": "markdown",
   "id": "63401ad3",
   "metadata": {},
   "source": [
    "### Now you should see these product descriptions in the Traces section of the langfuse UI.\n",
    "![Traces collected from the LLM generations](./images/product_description_traces.png \"Langfuse Traces\")\n"
   ]
  },
  {
   "cell_type": "markdown",
   "id": "91c1d0dd-370e-4053-a90a-c3ddfb095677",
   "metadata": {},
   "source": [
    "The goal of this tutorial is to show you how to build an model-based evaluation pipeline. These pipelines will run in your CI/CD environment, or be run in a different orchestrated container service. No matter the environment you choose, three key steps always apply:\n",
    "\n",
    "1. Fetch Your Traces: Get your application traces to your evaluation environment\n",
    "2. Run Your Evaluations: Apply any evaluation logic you prefer\n",
    "3. Save Your Results: Attach your evaluations back to the Langfuse trace used for calculating them.\n",
    "\n",
    "***\n",
    "Goal: This evaluation pipeline is executed on all the traces over the past 24 hours\n",
    "***"
   ]
  },
  {
   "cell_type": "markdown",
   "id": "0762d57d-ad9d-4157-a055-4f1cd68bee0f",
   "metadata": {},
   "source": [
    "## 1. Fetch the traces\n",
    "\n",
    "The ```fetch_traces()``` function has arguments to filter the traces by tags, timestamps, and beyond. We can also choose the number of samples for pagination."
   ]
  },
  {
   "cell_type": "code",
   "execution_count": null,
   "id": "cb9280ea-d355-40ee-ab59-b91715e16a55",
   "metadata": {},
   "outputs": [],
   "source": [
    "from datetime import datetime, timedelta\n",
    "\n",
    "BATCH_SIZE = 10\n",
    "TOTAL_TRACES = 50\n",
    "\n",
    "now = datetime.now()\n",
    "last_24_hours = now - timedelta(days=1)\n",
    "\n",
    "\n",
    "traces_batch = langfuse.fetch_traces(\n",
    "    page=1,\n",
    "    limit=BATCH_SIZE,\n",
    "    tags=\"bedrock_eval_pipelines\",\n",
    "    user_id=\"lab3-model-eval-user\",\n",
    "    from_timestamp=last_24_hours,\n",
    "    to_timestamp=datetime.now(),\n",
    ").data\n",
    "\n",
    "print(f\"Traces in first batch: {len(traces_batch)}\")"
   ]
  },
  {
   "cell_type": "code",
   "execution_count": null,
   "id": "4bbbf233-43f3-42c2-8e89-13723faa48b1",
   "metadata": {},
   "outputs": [],
   "source": [
    "traces_batch[1].id"
   ]
  },
  {
   "cell_type": "code",
   "execution_count": null,
   "id": "1e9ce965",
   "metadata": {},
   "outputs": [],
   "source": [
    "response = langfuse.get_generations(trace_id=traces_batch[1].id).data[0]\n",
    "response.output"
   ]
  },
  {
   "cell_type": "markdown",
   "id": "06ff8eea-302e-44ee-a4bf-7595c848f872",
   "metadata": {},
   "source": [
    "## 2. Categorical Evaluation using LLM-as-a-judge\n",
    "\n",
    "Evaluation functions should take a trace as input and yield a valid score.\n",
    "When analyzing the outputs of your LLM applications, you may want to evaluate traits that are defined qualitatively such as readability, helpfulness or measures for reducing hallucinations such as completeness.\n",
    "\n",
    "We're building product descriptions and to ensure it resonates with customers, we want to measure readability. For more LLM-as-a-judge definitions, check out the judge based evaluator prompts defined in the [Amazon Bedrock Evaluator Prompts](https://docs.aws.amazon.com/bedrock/latest/userguide/model-evaluation-type-judge-prompt.html)"
   ]
  },
  {
   "cell_type": "code",
   "execution_count": null,
   "id": "dbe7fe3a-0ce0-408a-a68b-1b79a11aab29",
   "metadata": {
    "scrolled": true
   },
   "outputs": [],
   "source": [
    "template_readability = \"\"\"\n",
    "You are a helpful agent that can assess an LLM response according to the given rubrics.\n",
    "\n",
    "You are given a product description generated by a LLM. Your task is to assess the readability of the LLM response to the question, in other words, how easy it is for a typical reading audience to comprehend the response at a normal reading rate.\n",
    "\n",
    "Please rate the readability of the response based on the following scale:\n",
    "- unreadable: The response contains gibberish or could not be comprehended by any normal audience.\n",
    "- poor readability: The response is comprehensible, but it is full of poor readability factors that make comprehension very challenging.\n",
    "- fair readability: The response is comprehensible, but there is a mix of poor readability and good readability factors, so the average reader would need to spend some time processing the text in order to understand it.\n",
    "- good readability: Very few poor readability factors. Mostly clear, well-structured sentences. Standard vocabulary with clear context for any challenging words. Clear organization with topic sentences and supporting details. The average reader could comprehend by reading through quickly one time.\n",
    "- excellent readability: No poor readability factors. Consistently clear, concise, and varied sentence structures. Simple, widely understood vocabulary. Logical organization with smooth transitions between ideas. The average reader may be able to skim the text and understand all necessary points.\n",
    "\n",
    "Here is the product description that needs to be evaluated: {prd_desc}\n",
    "\n",
    "Firstly explain your response, followed by your final answer. You should follow the format\n",
    "Explanation: [Explanation], Answer: [Answer],\n",
    "where '[Answer]' can be one of the following:\n",
    "```\n",
    "unreadable\n",
    "poor readability\n",
    "fair readability\n",
    "good readability\n",
    "excellent readability\n",
    "```\n",
    "\"\"\"\n",
    "\n",
    "\n",
    "def generate_readability_score(trace_output):\n",
    "    prd_desc_readability = template_readability.format(prd_desc=trace_output)\n",
    "    message_1 = {\"role\": \"user\", \"content\": [{\"text\": prd_desc_readability}]}\n",
    "\n",
    "    # query = [f\"Rate the readability of product description: {traces_batch[1].output}\"]\n",
    "\n",
    "    readability_score = bedrock_runtime.converse(\n",
    "        modelId=\"us.amazon.nova-pro-v1:0\", messages=[message_1]\n",
    "    )\n",
    "    explanation, score = readability_score[\"output\"][\"message\"][\"content\"][0][\n",
    "        \"text\"\n",
    "    ].split(\"\\n\\n\")\n",
    "    return explanation, score\n",
    "\n",
    "\n",
    "print(f\"User query: {response.input[1]['content']}\")\n",
    "print(f\"Model answer: {response.output}\")\n",
    "explanation, score = generate_readability_score(response.output)\n",
    "print(f\"Readability: {score}, Explanation: {explanation}\")"
   ]
  },
  {
   "cell_type": "markdown",
   "id": "9ffa4aea-f139-43db-8f81-ead648d05029",
   "metadata": {},
   "source": [
    "## 3. Add the evaluation to the trace\n",
    "\n",
    "Now that we have generated a readability score as well as a explanation, we can use the Langfuse client to add scores to existing traces."
   ]
  },
  {
   "cell_type": "code",
   "execution_count": null,
   "id": "f936b040-4fff-47ae-91ef-cd5c16db3f45",
   "metadata": {},
   "outputs": [],
   "source": [
    "langfuse.score(\n",
    "    trace_id=traces_batch[1].id,\n",
    "    observation_id=traces_batch[1].observations[0],\n",
    "    name=\"readability\",\n",
    "    value=score,\n",
    "    comment=explanation,\n",
    ")"
   ]
  },
  {
   "cell_type": "markdown",
   "id": "b6a8fee5-a484-4a58-b0d0-72022bfc8f08",
   "metadata": {},
   "source": [
    "# Putting everything together\n",
    "\n",
    "We just saw how to do this for one trace, let's put it all together in a function to run it on all the traces collected in the last 24 hours."
   ]
  },
  {
   "cell_type": "code",
   "execution_count": null,
   "id": "0288a48c-8703-419c-99a7-a2fc1f3ac1fd",
   "metadata": {},
   "outputs": [],
   "source": [
    "import math\n",
    "\n",
    "for page_number in range(1, math.ceil(TOTAL_TRACES / BATCH_SIZE)):\n",
    "\n",
    "    traces_batch = langfuse.fetch_traces(\n",
    "        page=page_number,\n",
    "        limit=BATCH_SIZE,\n",
    "        tags=\"bedrock_eval_pipelines\",\n",
    "        user_id=\"lab3-model-eval-user\",\n",
    "        from_timestamp=last_24_hours,\n",
    "        to_timestamp=datetime.now(),\n",
    "    ).data\n",
    "\n",
    "    for trace in traces_batch:\n",
    "        print(f\"Processing {trace.name}\")\n",
    "        response = langfuse.get_generations(trace_id=trace.id).data[0]\n",
    "        if response.output is None:\n",
    "            print(\n",
    "                f\"Warning: \\n Trace {trace.name} had no generated output, \\\n",
    "            it was skipped\"\n",
    "            )\n",
    "            continue\n",
    "        explanation, score = generate_readability_score(response.output)\n",
    "        langfuse.score(\n",
    "            trace_id=trace.id,\n",
    "            observation_id=trace.observations[0],\n",
    "            name=\"readability\",\n",
    "            value=score,\n",
    "            comment=explanation,\n",
    "        )\n",
    "\n",
    "    print(f\"Batch {page_number} processed 🚀 \\n\")"
   ]
  },
  {
   "cell_type": "markdown",
   "id": "d9d8ed8e-bfb4-471d-a085-47863214b5b1",
   "metadata": {},
   "source": [
    "#### If your pipeline ran successfully, you should now see scores added to your traces\n",
    "\n",
    "![Langfuse Trace with score added for readability](scored_trace.png \"Scored trace on langfuse\")"
   ]
  },
  {
   "cell_type": "markdown",
   "id": "fab301d0",
   "metadata": {},
   "source": [
    "### Congratuations\n",
    "You have successfully finished Lab 3.1.\n",
    "\n",
    "If you are at an AWS event, you can return to the workshop studio for additional instructions before moving into the next lab, where we will explore GenAI guardrails."
   ]
  }
 ],
 "metadata": {
  "kernelspec": {
   "display_name": "genaiops",
   "language": "python",
   "name": "python3"
  },
  "language_info": {
   "codemirror_mode": {
    "name": "ipython",
    "version": 3
   },
   "file_extension": ".py",
   "mimetype": "text/x-python",
   "name": "python",
   "nbconvert_exporter": "python",
   "pygments_lexer": "ipython3",
   "version": "3.9.21"
  }
 },
 "nbformat": 4,
 "nbformat_minor": 5
}
